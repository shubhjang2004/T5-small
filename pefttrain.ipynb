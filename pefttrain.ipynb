{
 "cells": [
  {
   "cell_type": "code",
   "execution_count": 2,
   "metadata": {
    "colab": {
     "base_uri": "https://localhost:8080/"
    },
    "id": "3lsCVAsRu8c1",
    "outputId": "1fed0104-57c7-406d-cf01-21de43164396"
   },
   "outputs": [
    {
     "name": "stdout",
     "output_type": "stream",
     "text": [
      "Using device: cuda\n",
      "GPU: Tesla T4\n",
      "Memory Available: 15.83 GB\n"
     ]
    }
   ],
   "source": [
    "\n",
    "# Install required packages\n",
    "!pip install transformers datasets peft accelerate sentencepiece evaluate scikit-learn -q\n",
    "\n",
    "import torch\n",
    "import torch.nn as nn\n",
    "from torch.utils.data import DataLoader\n",
    "from transformers import (\n",
    "    T5ForConditionalGeneration,\n",
    "    T5Tokenizer,\n",
    "\n",
    "    get_linear_schedule_with_warmup\n",
    ")\n",
    "from torch.optim import AdamW\n",
    "from datasets import load_dataset\n",
    "from peft import (\n",
    "    get_peft_model,\n",
    "    LoraConfig,\n",
    "    TaskType,\n",
    "    PrefixTuningConfig,\n",
    "\n",
    ")\n",
    "import numpy as np\n",
    "from tqdm.auto import tqdm\n",
    "import matplotlib.pyplot as plt\n",
    "from sklearn.metrics import accuracy_score, classification_report\n",
    "import os\n",
    "import json\n",
    "from datetime import datetime\n",
    "\n",
    "# Set random seeds for reproducibility\n",
    "def set_seed(seed=42):\n",
    "    torch.manual_seed(seed)\n",
    "    torch.cuda.manual_seed_all(seed)\n",
    "    np.random.seed(seed)\n",
    "\n",
    "set_seed(42)\n",
    "\n",
    "# Device configuration\n",
    "device = torch.device(\"cuda\" if torch.cuda.is_available() else \"cpu\")\n",
    "print(f\"Using device: {device}\")\n",
    "if torch.cuda.is_available():\n",
    "    print(f\"GPU: {torch.cuda.get_device_name(0)}\")\n",
    "    print(f\"Memory Available: {torch.cuda.get_device_properties(0).total_memory / 1e9:.2f} GB\")"
   ]
  },
  {
   "cell_type": "code",
   "execution_count": 3,
   "metadata": {
    "colab": {
     "base_uri": "https://localhost:8080/",
     "height": 728,
     "referenced_widgets": [
      "ff8a1b53c69b4be78e665846dd74d59a",
      "2c427ae9073c47ddb760bb9a6b697f9f",
      "263bb1fe06cf45b6a86d17442ca14aed",
      "9eb25d9e7ce1461293900d187fc062fe",
      "1a4f7dd7b4944ea2880486ed19a7c96d",
      "8e26deaa758845318da0143ceff5528d",
      "8cdc02959f8748f1bd1fd2d6301d880e",
      "a05f0f8ce3844e0bad908056d0967af4",
      "b9e4e80a6c274607bbfd88a85aefd82c",
      "06185d88b72745888b87ee34ee88c277",
      "70b0cfe59ff34a4cb820c4b3879b9cf7",
      "379ff39c28204b9eb37443eefcc170dc",
      "ddacdfe79bd5452db9d4873003736138",
      "72ea1c22bb3c4226ad00fb09e49218f3",
      "0c65351e141a42e4b7625c81e2540ee7",
      "8a26db2ff96f4662916f47a7a29c4ebc",
      "8f5bf4880b574eff94ee78021ca468a9",
      "24445e16ea7e42e1a598645f4af23146",
      "9c60066394044802bb2b3c19b951cfe2",
      "9e3adf15cfb84fe1a62726f94edd1c69",
      "837857358dee401194bc1bdba1a1bcde",
      "bee09b935ebf4e56b050694570e46fc6",
      "78485516a1004dec9e84dae318007654",
      "688a4ac66a6445d18e49d7b87877fb05",
      "bb69950670954ca4bc15359d6389d05d",
      "cb0343d160614c5881d5056d0394c454",
      "b944ea5550f04faa9911f8f740aeb88c",
      "c4d628d94a724927b1f679689beec26a",
      "bc5970f2d4cf4b84981048af3de65dc8",
      "2e8a27cbc06f4fec881b32ce7a2373a0",
      "f5093d5ef12d4018afe97821f0ad81e7",
      "1becfa0dbddb410eb4a0ff53500e9f6e",
      "0c49109cca734f998ac9e87585227bc0",
      "ea4b4eaa88b24690b89271f85a50f4e1",
      "8c76e6dbe23e4512bbd396583aab52d1",
      "308a75ef32df4ac887ebdcc17e38811b",
      "ea51f63b58aa451584f77e7ead4b4a82",
      "52d5d63eb2fa4a808cd96faacdcc9f68",
      "0f25e34d742944d3bedf384e31f26537",
      "ea7ff728809e47be95f6e377af39de08",
      "b6cd9ea567804d0188c3d992bbf76927",
      "5ed9852a28f440e2a1ac5196de7a613c",
      "d3a35d6d09bf457dbc28c0ea7c199509",
      "e1d6bf3d7e254f8cb0bc3bc9b9ac88f9",
      "369cd357ed8d4492bf7f9a1447f9f3d7",
      "2fa7d786d4bc4f58b08f4e5ee1e61fff",
      "9632589e6e23444e8adcfea998b6dce0",
      "5c316af7b9f74e26bf566de2ced770f8",
      "66100169393841beac71f13cd0766660",
      "795851f2603b4c6a9cebf227ab9936b0",
      "3baca6e321b44fc8bc3cfc70485c0bbb",
      "df2282f83a67443b977871e49f7f3422",
      "cca51995095d415386b7dbbabc931b80",
      "225e3580d6aa4efd8395b1a3462af26d",
      "ebaf2c066bbd49b1b48c78acb88df3d0",
      "201d9d7631f244cab6ecd4472142a6b1",
      "5882d066ff424537838b122e815fb147",
      "fb9d0699b8c143449fb1d705c06780e2",
      "8457a3291ecb4c66bb101037d1eb1315",
      "ca3c3b738b604dfe87f476da025d5d60",
      "c5450d89cfbf4de9968be4ee1a1a63ff",
      "c33e716ebd584ebf98e8a726f8cb40c3",
      "933432e599524c528c0c96a8bb9407da",
      "80c772bffb76443789ad97e8ff94572d",
      "bb5a2b99e2154cf9a6207473fd4e406a",
      "1912ef7d7c0e4378b387952438b4c599",
      "187e82c376d04a77bdc5f7b5f879a245",
      "6f1b50b200f94c85a976590797482020",
      "43d1e2badd0f4abc996a5333fc9b76e3",
      "6eb7989be34749c7935f5e198649ded3",
      "94dcbe5c3c3b4becabfa936f191e1b72",
      "8928ffb1720e4c3da20ddfd5a08f28b3",
      "057cf6536e0c4a059402f36de567c668",
      "0718c85194914b2e922dc4fd3a38c41b",
      "1d6f518f5c1445e7a1d2e71274c78bcb",
      "04941100f65044e0b76b80a65f825568",
      "5d917a15c953428eb7a72a74cc80a836",
      "df8958ec2f1d4924a577757e8ee116e1",
      "4f3550ae29974efabc5ae8997890f841",
      "4c70d018682b4b148ac136742d4b7ff1",
      "15dc8cca0bc544cbbca962c273f9d321",
      "5d39723543a4494db947eab952eb95a4",
      "64c97f44832e4abc902905ec94da7f4f",
      "fdb9d135456047469f35511f4f075255",
      "025e32ccec774cbdb459fe7aff5098bc",
      "2df889de39524b8cbed8e695693ff9fa",
      "c22820a8ec4246f29726e4ec9109dde9",
      "5a72ab355506448584f3e824c1dd6340",
      "7c0f37a151a346e6908eb1a9101421f5",
      "bbe481efa9da455482a85f2778b9c17c",
      "6d293b33b23e45e18386ed6a4b9918c7",
      "4d282d23e233451699dca85fdfaacdfd",
      "6c7c1b7020ef4d2e8bc3a689f1ed1348",
      "2de2ab2fbb9a487994f2d556a02e91ca",
      "d5c9b489bff345c28c92bdce9eaf6037",
      "3e86ae2f299d499d899d6196df6856ac",
      "c28773268ccc43a09a835572f9e79fe8",
      "b0b0481b4be440aaae19dd2088dbb56f",
      "9ce5d6056dab49329c8b2e77450adfba",
      "8bfb270c09a44d5c947dbd2eb485edc2",
      "b1b53fe18b8f47f5ab96a4a75ac1dca5",
      "2471e2621edc47d1a276b5d79c2e0d0c",
      "aabd92ebbd044dbb8f3e2136fcf22523",
      "2865f2ee18d94ec6a6c800fd093dddae",
      "6872b24cac2140b0afa849c2bc1580cc",
      "b3ffc094309c44eaa9763967f71a86d2",
      "e2c45fee05594ae5b5432c4cb6c8a603",
      "01a132b2aec84e5190a10dacd0177fce",
      "f8ff132e900e47a8bd3dfcd33b62da94",
      "42e43866125044b1b41b46cbdb432a80",
      "fa13ed27b9144fc595bf4df56a7e3aee",
      "1bc2529998914dfca9c3d28c884044bb",
      "ea384262f4b84066a6f8063cce3c9b07",
      "98d76286e8c04e3b922604d0994a0bd5",
      "06467f7323844360bc9d7db13861ad20",
      "46c56c5d82f6403fa3285c4dd0228b5e",
      "cc900f7f8d1f4115bb8d9cf689818377",
      "e4de60c785174941952a2dfe22e4b974",
      "2965ef0329ad4866b4fe80becf6b52e5",
      "03eb13889b084dbf9e1a46fc67e2b11d",
      "900eeb5ac028493ea2464bb3036f7e30",
      "e7ec23b9ff6b427c99480e108090dbf0",
      "d1e65184a76b4af49146bcedb570828a",
      "70f28a6e998545d2a73e49a9b5ba61fe",
      "72cb5fdb9c56412ea41080098b8f5aef",
      "c9fd30931140410384252952d19ec5db",
      "947585dc12f14353a905923a68cba060",
      "06ab459d10ec4d6089753efcd5332367",
      "08783ce98821426db65c0f57126447c7",
      "1e3973cf718f471394f20466709b530b",
      "e37370d359f94155b708bd8a7ed5bb38",
      "215c6265e928422e916ca41d873c4bfc",
      "a4d36e036b9049ffaa0b64b86475ae48",
      "476a7dffb60b4681b0c918eed54a79bc",
      "f1571eddc9314b09ad7d7a42c573e25a",
      "024f6a40eef94bb8adf7902cf4536b35",
      "222539046356463a95402ace2a6c3dc9",
      "98a735408d85464597b4ac1ee21db18b",
      "3ae1d4e9774f456584ecabd96ccf11c6",
      "c58b259cdaf64e4a8f54c66d3bd30a37",
      "1c329476364841009aca150f0f1f1b61",
      "df613452c28f47adba9db4f313b1c998",
      "21716d21ab544749b54bc36402b1ac72"
     ]
    },
    "id": "dEuERRxeu8Zd",
    "outputId": "74569232-548f-4d61-824c-41dcffe24487"
   },
   "outputs": [
    {
     "name": "stdout",
     "output_type": "stream",
     "text": [
      "Loading IMDb dataset...\n"
     ]
    },
    {
     "name": "stderr",
     "output_type": "stream",
     "text": [
      "/usr/local/lib/python3.12/dist-packages/huggingface_hub/utils/_auth.py:94: UserWarning: \n",
      "The secret `HF_TOKEN` does not exist in your Colab secrets.\n",
      "To authenticate with the Hugging Face Hub, create a token in your settings tab (https://huggingface.co/settings/tokens), set it as secret in your Google Colab and restart your session.\n",
      "You will be able to reuse this secret in all of your notebooks.\n",
      "Please note that authentication is recommended but still optional to access public models or datasets.\n",
      "  warnings.warn(\n"
     ]
    },
    {
     "data": {
      "application/vnd.jupyter.widget-view+json": {
       "model_id": "ff8a1b53c69b4be78e665846dd74d59a",
       "version_major": 2,
       "version_minor": 0
      },
      "text/plain": [
       "README.md: 0.00B [00:00, ?B/s]"
      ]
     },
     "metadata": {},
     "output_type": "display_data"
    },
    {
     "data": {
      "application/vnd.jupyter.widget-view+json": {
       "model_id": "379ff39c28204b9eb37443eefcc170dc",
       "version_major": 2,
       "version_minor": 0
      },
      "text/plain": [
       "plain_text/train-00000-of-00001.parquet:   0%|          | 0.00/21.0M [00:00<?, ?B/s]"
      ]
     },
     "metadata": {},
     "output_type": "display_data"
    },
    {
     "data": {
      "application/vnd.jupyter.widget-view+json": {
       "model_id": "78485516a1004dec9e84dae318007654",
       "version_major": 2,
       "version_minor": 0
      },
      "text/plain": [
       "plain_text/test-00000-of-00001.parquet:   0%|          | 0.00/20.5M [00:00<?, ?B/s]"
      ]
     },
     "metadata": {},
     "output_type": "display_data"
    },
    {
     "data": {
      "application/vnd.jupyter.widget-view+json": {
       "model_id": "ea4b4eaa88b24690b89271f85a50f4e1",
       "version_major": 2,
       "version_minor": 0
      },
      "text/plain": [
       "plain_text/unsupervised-00000-of-00001.p(…):   0%|          | 0.00/42.0M [00:00<?, ?B/s]"
      ]
     },
     "metadata": {},
     "output_type": "display_data"
    },
    {
     "data": {
      "application/vnd.jupyter.widget-view+json": {
       "model_id": "369cd357ed8d4492bf7f9a1447f9f3d7",
       "version_major": 2,
       "version_minor": 0
      },
      "text/plain": [
       "Generating train split:   0%|          | 0/25000 [00:00<?, ? examples/s]"
      ]
     },
     "metadata": {},
     "output_type": "display_data"
    },
    {
     "data": {
      "application/vnd.jupyter.widget-view+json": {
       "model_id": "201d9d7631f244cab6ecd4472142a6b1",
       "version_major": 2,
       "version_minor": 0
      },
      "text/plain": [
       "Generating test split:   0%|          | 0/25000 [00:00<?, ? examples/s]"
      ]
     },
     "metadata": {},
     "output_type": "display_data"
    },
    {
     "data": {
      "application/vnd.jupyter.widget-view+json": {
       "model_id": "187e82c376d04a77bdc5f7b5f879a245",
       "version_major": 2,
       "version_minor": 0
      },
      "text/plain": [
       "Generating unsupervised split:   0%|          | 0/50000 [00:00<?, ? examples/s]"
      ]
     },
     "metadata": {},
     "output_type": "display_data"
    },
    {
     "data": {
      "application/vnd.jupyter.widget-view+json": {
       "model_id": "df8958ec2f1d4924a577757e8ee116e1",
       "version_major": 2,
       "version_minor": 0
      },
      "text/plain": [
       "tokenizer_config.json:   0%|          | 0.00/2.32k [00:00<?, ?B/s]"
      ]
     },
     "metadata": {},
     "output_type": "display_data"
    },
    {
     "data": {
      "application/vnd.jupyter.widget-view+json": {
       "model_id": "7c0f37a151a346e6908eb1a9101421f5",
       "version_major": 2,
       "version_minor": 0
      },
      "text/plain": [
       "spiece.model:   0%|          | 0.00/792k [00:00<?, ?B/s]"
      ]
     },
     "metadata": {},
     "output_type": "display_data"
    },
    {
     "data": {
      "application/vnd.jupyter.widget-view+json": {
       "model_id": "8bfb270c09a44d5c947dbd2eb485edc2",
       "version_major": 2,
       "version_minor": 0
      },
      "text/plain": [
       "tokenizer.json:   0%|          | 0.00/1.39M [00:00<?, ?B/s]"
      ]
     },
     "metadata": {},
     "output_type": "display_data"
    },
    {
     "name": "stderr",
     "output_type": "stream",
     "text": [
      "You are using the default legacy behaviour of the <class 'transformers.models.t5.tokenization_t5.T5Tokenizer'>. This is expected, and simply means that the `legacy` (previous) behavior will be used so nothing changes for you. If you want to use the new behaviour, set `legacy=False`. This should only be set if you understand what it means, and thoroughly read the reason why this was added as explained in https://github.com/huggingface/transformers/pull/24565\n"
     ]
    },
    {
     "name": "stdout",
     "output_type": "stream",
     "text": [
      "Preprocessing datasets...\n"
     ]
    },
    {
     "data": {
      "application/vnd.jupyter.widget-view+json": {
       "model_id": "fa13ed27b9144fc595bf4df56a7e3aee",
       "version_major": 2,
       "version_minor": 0
      },
      "text/plain": [
       "Tokenizing:   0%|          | 0/25000 [00:00<?, ? examples/s]"
      ]
     },
     "metadata": {},
     "output_type": "display_data"
    },
    {
     "data": {
      "application/vnd.jupyter.widget-view+json": {
       "model_id": "e7ec23b9ff6b427c99480e108090dbf0",
       "version_major": 2,
       "version_minor": 0
      },
      "text/plain": [
       "Tokenizing:   0%|          | 0/25000 [00:00<?, ? examples/s]"
      ]
     },
     "metadata": {},
     "output_type": "display_data"
    },
    {
     "data": {
      "application/vnd.jupyter.widget-view+json": {
       "model_id": "a4d36e036b9049ffaa0b64b86475ae48",
       "version_major": 2,
       "version_minor": 0
      },
      "text/plain": [
       "Tokenizing:   0%|          | 0/50000 [00:00<?, ? examples/s]"
      ]
     },
     "metadata": {},
     "output_type": "display_data"
    },
    {
     "name": "stdout",
     "output_type": "stream",
     "text": [
      "Training samples: 10000\n",
      "Evaluation samples: 1000\n"
     ]
    }
   ],
   "source": [
    "# ============================================================================\n",
    "#  Dataset Preparation and Preprocessing\n",
    "# ============================================================================\n",
    "\n",
    "print(\"Loading IMDb dataset...\")\n",
    "dataset = load_dataset(\"imdb\")\n",
    "\n",
    "# Initialize tokenizer\n",
    "tokenizer = T5Tokenizer.from_pretrained(\"t5-small\")\n",
    "MAX_SEQ_LENGTH = 256  # Reduced for compute efficiency\n",
    "\n",
    "# T5 needs task prefix for text-to-text format\n",
    "def preprocess_function(examples):\n",
    "    \"\"\"\n",
    "    Convert IMDb examples to T5 text-to-text format:\n",
    "    Input: \"classify sentiment: [review text]\"\n",
    "    Output: \"positive\" or \"negative\"\n",
    "    \"\"\"\n",
    "    # Add task prefix\n",
    "    inputs = [\"classify sentiment: \" + text for text in examples[\"text\"]]\n",
    "\n",
    "    # Convert labels to text\n",
    "    targets = [\"positive\" if label == 1 else \"negative\" for label in examples[\"label\"]]\n",
    "\n",
    "    # Tokenize inputs\n",
    "    model_inputs = tokenizer(\n",
    "        inputs,\n",
    "        max_length=MAX_SEQ_LENGTH,\n",
    "        truncation=True,\n",
    "        padding=\"max_length\"\n",
    "    )\n",
    "\n",
    "    # Tokenize targets\n",
    "    labels = tokenizer(\n",
    "        targets,\n",
    "        max_length=4,  # \"positive\"/\"negative\" are short\n",
    "        truncation=True,\n",
    "        padding=\"max_length\"\n",
    "    )\n",
    "\n",
    "    # Replace padding token id with -100 so they're ignored in loss\n",
    "    labels[\"input_ids\"] = [\n",
    "        [(l if l != tokenizer.pad_token_id else -100) for l in label]\n",
    "        for label in labels[\"input_ids\"]\n",
    "    ]\n",
    "\n",
    "    model_inputs[\"labels\"] = labels[\"input_ids\"]\n",
    "    return model_inputs\n",
    "\n",
    "# Process datasets\n",
    "print(\"Preprocessing datasets...\")\n",
    "tokenized_datasets = dataset.map(\n",
    "    preprocess_function,\n",
    "    batched=True,\n",
    "    remove_columns=dataset[\"train\"].column_names,\n",
    "    desc=\"Tokenizing\"\n",
    ")\n",
    "\n",
    "# Use subset for faster training (remove these lines for full dataset)\n",
    "train_dataset = tokenized_datasets[\"train\"].shuffle(seed=42).select(range(10000))\n",
    "eval_dataset = tokenized_datasets[\"test\"].shuffle(seed=42).select(range(1000))\n",
    "\n",
    "print(f\"Training samples: {len(train_dataset)}\")\n",
    "print(f\"Evaluation samples: {len(eval_dataset)}\")\n",
    "\n",
    "# Data collator\n",
    "from transformers import DataCollatorForSeq2Seq\n",
    "data_collator = DataCollatorForSeq2Seq(tokenizer=tokenizer, model=\"t5-small\")"
   ]
  },
  {
   "cell_type": "code",
   "execution_count": 4,
   "metadata": {
    "id": "yYLtcOWWu8Wu"
   },
   "outputs": [],
   "source": [
    "# ============================================================================\n",
    "#  Training Configuration and Helper Functions\n",
    "# ============================================================================\n",
    "\n",
    "# Training hyperparameters\n",
    "BATCH_SIZE = 16\n",
    "LEARNING_RATE = 3e-4\n",
    "NUM_EPOCHS = 3\n",
    "WARMUP_STEPS = 100\n",
    "GRADIENT_ACCUMULATION_STEPS = 2\n",
    "\n",
    "def count_trainable_parameters(model):\n",
    "    \"\"\"Count trainable vs total parameters\"\"\"\n",
    "    trainable_params = sum(p.numel() for p in model.parameters() if p.requires_grad)\n",
    "    total_params = sum(p.numel() for p in model.parameters())\n",
    "    trainable_pct = 100 * trainable_params / total_params\n",
    "    return trainable_params, total_params, trainable_pct\n",
    "\n",
    "def evaluate_model(model, eval_dataloader, device):\n",
    "    \"\"\"Evaluate model and compute accuracy\"\"\"\n",
    "    model.eval()\n",
    "    all_predictions = []\n",
    "    all_labels = []\n",
    "    total_loss = 0\n",
    "\n",
    "    with torch.no_grad():\n",
    "        for batch in tqdm(eval_dataloader, desc=\"Evaluating\"):\n",
    "            batch = {k: v.to(device) for k, v in batch.items()}\n",
    "\n",
    "            outputs = model(**batch)\n",
    "            loss = outputs.loss\n",
    "            total_loss += loss.item()\n",
    "\n",
    "            # Generate predictions\n",
    "            generated_ids = model.generate(\n",
    "                input_ids=batch[\"input_ids\"],\n",
    "                attention_mask=batch[\"attention_mask\"],\n",
    "                max_length=4,\n",
    "                num_beams=1\n",
    "            )\n",
    "\n",
    "            # Decode predictions\n",
    "            predictions = tokenizer.batch_decode(generated_ids, skip_special_tokens=True)\n",
    "\n",
    "            # Decode true labels\n",
    "            labels = batch[\"labels\"].cpu().numpy()\n",
    "            labels = np.where(labels != -100, labels, tokenizer.pad_token_id)\n",
    "            true_labels = tokenizer.batch_decode(labels, skip_special_tokens=True)\n",
    "\n",
    "            all_predictions.extend(predictions)\n",
    "            all_labels.extend(true_labels)\n",
    "\n",
    "    # Calculate accuracy\n",
    "    correct = sum(1 for pred, label in zip(all_predictions, all_labels) if pred.strip() == label.strip())\n",
    "    accuracy = correct / len(all_labels)\n",
    "    avg_loss = total_loss / len(eval_dataloader)\n",
    "\n",
    "    return accuracy, avg_loss, all_predictions, all_labels\n",
    "\n",
    "def train_model(model, train_dataloader, eval_dataloader, optimizer, scheduler, num_epochs, device, method_name):\n",
    "    \"\"\"Generic training loop\"\"\"\n",
    "    print(f\"\\n{'='*80}\")\n",
    "    print(f\"Training: {method_name}\")\n",
    "    print(f\"{'='*80}\")\n",
    "\n",
    "    trainable, total, pct = count_trainable_parameters(model)\n",
    "    print(f\"Trainable parameters: {trainable:,} ({pct:.2f}% of {total:,})\")\n",
    "\n",
    "    history = {\n",
    "        \"train_loss\": [],\n",
    "        \"eval_loss\": [],\n",
    "        \"eval_accuracy\": [],\n",
    "        \"method\": method_name,\n",
    "        \"trainable_params\": trainable,\n",
    "        \"trainable_pct\": pct\n",
    "    }\n",
    "\n",
    "    model.to(device)\n",
    "    best_accuracy = 0\n",
    "\n",
    "    for epoch in range(num_epochs):\n",
    "        # Training phase\n",
    "        model.train()\n",
    "        total_loss = 0\n",
    "        progress_bar = tqdm(train_dataloader, desc=f\"Epoch {epoch+1}/{num_epochs}\")\n",
    "\n",
    "        for step, batch in enumerate(progress_bar):\n",
    "            batch = {k: v.to(device) for k, v in batch.items()}\n",
    "\n",
    "            outputs = model(**batch)\n",
    "            loss = outputs.loss / GRADIENT_ACCUMULATION_STEPS\n",
    "            loss.backward()\n",
    "\n",
    "            if (step + 1) % GRADIENT_ACCUMULATION_STEPS == 0:\n",
    "                torch.nn.utils.clip_grad_norm_(model.parameters(), 1.0)\n",
    "                optimizer.step()\n",
    "                scheduler.step()\n",
    "                optimizer.zero_grad()\n",
    "\n",
    "            total_loss += loss.item() * GRADIENT_ACCUMULATION_STEPS\n",
    "            progress_bar.set_postfix({\"loss\": loss.item() * GRADIENT_ACCUMULATION_STEPS})\n",
    "\n",
    "        avg_train_loss = total_loss / len(train_dataloader)\n",
    "\n",
    "        # Evaluation phase\n",
    "        eval_accuracy, eval_loss, _, _ = evaluate_model(model, eval_dataloader, device)\n",
    "\n",
    "        history[\"train_loss\"].append(avg_train_loss)\n",
    "        history[\"eval_loss\"].append(eval_loss)\n",
    "        history[\"eval_accuracy\"].append(eval_accuracy)\n",
    "\n",
    "        print(f\"\\nEpoch {epoch+1}/{num_epochs}\")\n",
    "        print(f\"  Train Loss: {avg_train_loss:.4f}\")\n",
    "        print(f\"  Eval Loss: {eval_loss:.4f}\")\n",
    "        print(f\"  Eval Accuracy: {eval_accuracy*100:.2f}%\")\n",
    "\n",
    "        # Save best model\n",
    "        if eval_accuracy > best_accuracy:\n",
    "            best_accuracy = eval_accuracy\n",
    "            os.makedirs(\"models\", exist_ok=True)\n",
    "            model.save_pretrained(f\"models/{method_name.lower().replace(' ', '_')}_best\")\n",
    "            print(f\"   New best model saved (accuracy: {best_accuracy*100:.2f}%)\")\n",
    "\n",
    "    return history"
   ]
  },
  {
   "cell_type": "code",
   "execution_count": 5,
   "metadata": {
    "colab": {
     "base_uri": "https://localhost:8080/",
     "height": 756,
     "referenced_widgets": [
      "46afb61273c94e21896d05a0c54a1858",
      "48eb7324e02d46c9bc6c9ef69e1ff786",
      "2de8e509dae84e1e9a69426e7991757e",
      "93b38bf6486c4275a1c83f7f71350833",
      "b952395af2af4c5fa72cd779a4da6b10",
      "e05f0ecf7c2a49028f2b43f081e7f334",
      "12551a5c66b240369d558752948faccd",
      "33736a7d94d147f6b1781a9c116a6cb5",
      "38236115eb424122b39a28e4706dd4a6",
      "33fe6a90fb584be185ce19d15cf8652e",
      "30b195ba7b7e4b2d988ab6bf8c5d4f84",
      "cceb4811aa2242a782932e8750a05a01",
      "2f4ae432032446b5adf7c8f8eb19dd29",
      "5e5c317572fc423491d723e3ea343b7c",
      "5a4e571e9ad243c1abbeb14b0c809266",
      "e459457938f0423e9a049f7d1c8b2229",
      "bfb17ead9a0e4aa197132a3a7473fee2",
      "2bf4a55a78534c54bf95b21d3c4571ca",
      "8db8ed3e2a3743ac8b13aa9aca9f2b21",
      "19ad19b3195b4a7b81cdc3b399e177f2",
      "c29e2bc0422a4ede98e2a2ad1837e9c7",
      "f0c67822e44445268fa4a0ea181e81cb",
      "8cfcd3c80c124267b55378b28e060415",
      "791df47907494e9e8304081a5c05211a",
      "ed1525b0a2e04d01980d5885b8af0522",
      "8088c118cfab4466a7f662c149e09db7",
      "88a97b6c047f4af691dccc4747174de1",
      "b0a1ce648ef347a48c955996355282e4",
      "80096890002240999f22f827662bd810",
      "f5c84fe1389a47168753f5eff07deb71",
      "74941ac2bad14be8bfec89110aaed339",
      "9800a88521aa4b279781cf28afe9717f",
      "d59d9112dcbb42cb8b8879ccc9071411",
      "360a4384b47d49d2ab1f71dfe94f38d3",
      "4c2501f71ef14b9eab38dc593d835aaf",
      "d9d36b38b19d47a6a5c83a3956d99b8e",
      "f49380f2d462430884603e6ca83b5798",
      "eccd767703454e22a0e2426b8d693aeb",
      "eaa1678a5bab4d3eaf6274f967d9c9c5",
      "dc7b1771856c49348e93875bb023d698",
      "55959b241bda4bafbf7fd6f771c1c122",
      "900bbfc8892f4accb7a164532b3034c7",
      "36df8d1ef2ff4cb080b8ff036def64ca",
      "649769da77b3400cb3c320fca581f061",
      "775dfbeb069146dd9b795194cfc80f0d",
      "160945cd821546e19425e4758712e092",
      "20423c62059d461982bc88edb05f3cab",
      "a6b45f08d56b4c5a928d113c66ddb1cd",
      "3d61ab2c3f3a4ecea34ce059a9c8f2f8",
      "3fa04dfaa0a74d4aad5d4be67ec14e60",
      "9408deed64f149ab83fd11ee1d0f4a48",
      "8548cd852650402a9dddfc4b0e1fb264",
      "07075ed0c6b44d4d80e7f0cd6f5650ff",
      "0710231d69334cb99b7f2aab84de96f9",
      "37ea4863d3c442a4ac43ae55eafb0683",
      "3b793e6a673b404bafa74dd5af473bb1",
      "5fc87d26c3204dab99b5f3c8af14bb09",
      "c60538142d0c4d7cb745b9513fe22b40",
      "ce99d3a132f748b7b5fe1060349d22a4",
      "5eb9eb64face4f7890f840583cdb5ec8",
      "ad7101acb56844f3ad9e6a5330cca374",
      "1c07fa7788e94c78a1252f44588fc309",
      "71170bbb04a24b1d86ef53b47691789e",
      "c48e8f2923644964b721b33e73b0ec47",
      "3e31bc18d3d84bf580e72fb87a0a0309",
      "c24a6456b72343749a4a6188870f989d",
      "941f4a22147d4b58a4a8371bbad01e51",
      "0dbeebcdc12540f2adf045012a42b65c",
      "c3319222c6db4e29b3d8aa72d7cfbc0c",
      "7fa4b3bdc31b4487afc0ac709298ba52",
      "b646d4b71ea04840987a7c7176cfb14c",
      "599af8ae92a54a119e0db56a5ad2164d",
      "281bc76fede04fe38ecb4faaccc5cf17",
      "9429a1fcd8f344c7b6ad3b1d6ef4ba60",
      "7660dde8e2fc41598e27c9608eab46c7",
      "70b952ad4a904e20b76dcee602ff9410",
      "160dd3e19efb4adf8155c171233618e0",
      "6207de8f3c98449e9b2e05d38d869a4b",
      "3f125554287e43e0bb6ff3966fcf791c",
      "cb535a6580db41d2967c45d84dc30862",
      "47f921ce915a4f599ecf99ac9e122fad",
      "7d94cacc688d4239970b14afcaf71f0b",
      "c41725286fab4394afbd6d44f0b9bfe2",
      "032ca037e28f44c39ce23507cb9d3b63",
      "70bbeb27c9e4459eb193a64fae6b79b8",
      "25d1e337f8314a1a952d871e95b60f2b",
      "cf55f63009504346be4740eb6085d07f",
      "1027c5a246b34b21850e0026a3852ed0",
      "0037fa6ed16b44f889d42e7056127b4e",
      "10eeca1b0f5f41f8b9121ce5a52e773d",
      "306c71e6a32e412dbdc74c4538115731",
      "490fefc256774f5fbe9a91c250e6bc7c",
      "c546dc15b16147598d517cb0622ca8f0",
      "40349a709ea44144828ba44e1e3c000f",
      "8f1e0852ea6648809a6415c573123ada",
      "df466d5e72da4c8db7f47a0fbdaad947",
      "a0c6b33cde974c37be188b975098655f",
      "c72a472375004596be80cbca02701413",
      "c1159ed79c104f44acdb1ee86b3793b1"
     ]
    },
    "id": "Z2c7O34cu8T5",
    "outputId": "c98a6bbe-69b9-4b12-adbe-9c30d93dd26a"
   },
   "outputs": [
    {
     "name": "stdout",
     "output_type": "stream",
     "text": [
      "\n",
      "================================================================================\n",
      "METHOD 1: FULL FINE-TUNING (BASELINE)\n",
      "================================================================================\n"
     ]
    },
    {
     "data": {
      "application/vnd.jupyter.widget-view+json": {
       "model_id": "46afb61273c94e21896d05a0c54a1858",
       "version_major": 2,
       "version_minor": 0
      },
      "text/plain": [
       "config.json:   0%|          | 0.00/1.21k [00:00<?, ?B/s]"
      ]
     },
     "metadata": {},
     "output_type": "display_data"
    },
    {
     "data": {
      "application/vnd.jupyter.widget-view+json": {
       "model_id": "cceb4811aa2242a782932e8750a05a01",
       "version_major": 2,
       "version_minor": 0
      },
      "text/plain": [
       "model.safetensors:   0%|          | 0.00/242M [00:00<?, ?B/s]"
      ]
     },
     "metadata": {},
     "output_type": "display_data"
    },
    {
     "data": {
      "application/vnd.jupyter.widget-view+json": {
       "model_id": "8cfcd3c80c124267b55378b28e060415",
       "version_major": 2,
       "version_minor": 0
      },
      "text/plain": [
       "generation_config.json:   0%|          | 0.00/147 [00:00<?, ?B/s]"
      ]
     },
     "metadata": {},
     "output_type": "display_data"
    },
    {
     "name": "stdout",
     "output_type": "stream",
     "text": [
      "\n",
      "================================================================================\n",
      "Training: Full Fine-tuning\n",
      "================================================================================\n",
      "Trainable parameters: 60,506,624 (100.00% of 60,506,624)\n"
     ]
    },
    {
     "data": {
      "application/vnd.jupyter.widget-view+json": {
       "model_id": "360a4384b47d49d2ab1f71dfe94f38d3",
       "version_major": 2,
       "version_minor": 0
      },
      "text/plain": [
       "Epoch 1/3:   0%|          | 0/625 [00:00<?, ?it/s]"
      ]
     },
     "metadata": {},
     "output_type": "display_data"
    },
    {
     "data": {
      "application/vnd.jupyter.widget-view+json": {
       "model_id": "775dfbeb069146dd9b795194cfc80f0d",
       "version_major": 2,
       "version_minor": 0
      },
      "text/plain": [
       "Evaluating:   0%|          | 0/63 [00:00<?, ?it/s]"
      ]
     },
     "metadata": {},
     "output_type": "display_data"
    },
    {
     "name": "stdout",
     "output_type": "stream",
     "text": [
      "\n",
      "Epoch 1/3\n",
      "  Train Loss: 0.7387\n",
      "  Eval Loss: 0.1329\n",
      "  Eval Accuracy: 88.70%\n",
      "   New best model saved (accuracy: 88.70%)\n"
     ]
    },
    {
     "data": {
      "application/vnd.jupyter.widget-view+json": {
       "model_id": "3b793e6a673b404bafa74dd5af473bb1",
       "version_major": 2,
       "version_minor": 0
      },
      "text/plain": [
       "Epoch 2/3:   0%|          | 0/625 [00:00<?, ?it/s]"
      ]
     },
     "metadata": {},
     "output_type": "display_data"
    },
    {
     "data": {
      "application/vnd.jupyter.widget-view+json": {
       "model_id": "941f4a22147d4b58a4a8371bbad01e51",
       "version_major": 2,
       "version_minor": 0
      },
      "text/plain": [
       "Evaluating:   0%|          | 0/63 [00:00<?, ?it/s]"
      ]
     },
     "metadata": {},
     "output_type": "display_data"
    },
    {
     "name": "stdout",
     "output_type": "stream",
     "text": [
      "\n",
      "Epoch 2/3\n",
      "  Train Loss: 0.1186\n",
      "  Eval Loss: 0.1223\n",
      "  Eval Accuracy: 90.50%\n",
      "   New best model saved (accuracy: 90.50%)\n"
     ]
    },
    {
     "data": {
      "application/vnd.jupyter.widget-view+json": {
       "model_id": "6207de8f3c98449e9b2e05d38d869a4b",
       "version_major": 2,
       "version_minor": 0
      },
      "text/plain": [
       "Epoch 3/3:   0%|          | 0/625 [00:00<?, ?it/s]"
      ]
     },
     "metadata": {},
     "output_type": "display_data"
    },
    {
     "data": {
      "application/vnd.jupyter.widget-view+json": {
       "model_id": "0037fa6ed16b44f889d42e7056127b4e",
       "version_major": 2,
       "version_minor": 0
      },
      "text/plain": [
       "Evaluating:   0%|          | 0/63 [00:00<?, ?it/s]"
      ]
     },
     "metadata": {},
     "output_type": "display_data"
    },
    {
     "name": "stdout",
     "output_type": "stream",
     "text": [
      "\n",
      "Epoch 3/3\n",
      "  Train Loss: 0.0889\n",
      "  Eval Loss: 0.1362\n",
      "  Eval Accuracy: 90.10%\n"
     ]
    }
   ],
   "source": [
    "\n",
    "\n",
    "# ============================================================================\n",
    "#  Full Fine-tuning (Baseline)\n",
    "# ============================================================================\n",
    "\n",
    "print(\"\\n\" + \"=\"*80)\n",
    "print(\"METHOD 1: FULL FINE-TUNING (BASELINE)\")\n",
    "print(\"=\"*80)\n",
    "\n",
    "# Load base model\n",
    "model_full = T5ForConditionalGeneration.from_pretrained(\"t5-small\")\n",
    "\n",
    "# Create dataloaders\n",
    "train_dataloader = DataLoader(\n",
    "    train_dataset,\n",
    "    batch_size=BATCH_SIZE,\n",
    "    shuffle=True,\n",
    "    collate_fn=data_collator\n",
    ")\n",
    "\n",
    "eval_dataloader = DataLoader(\n",
    "    eval_dataset,\n",
    "    batch_size=BATCH_SIZE,\n",
    "    collate_fn=data_collator\n",
    ")\n",
    "\n",
    "# Optimizer and scheduler\n",
    "optimizer_full = AdamW(model_full.parameters(), lr=LEARNING_RATE)\n",
    "total_steps = len(train_dataloader) * NUM_EPOCHS // GRADIENT_ACCUMULATION_STEPS\n",
    "scheduler_full = get_linear_schedule_with_warmup(\n",
    "    optimizer_full,\n",
    "    num_warmup_steps=WARMUP_STEPS,\n",
    "    num_training_steps=total_steps\n",
    ")\n",
    "\n",
    "# Train\n",
    "history_full = train_model(\n",
    "    model_full,\n",
    "    train_dataloader,\n",
    "    eval_dataloader,\n",
    "    optimizer_full,\n",
    "    scheduler_full,\n",
    "    NUM_EPOCHS,\n",
    "    device,\n",
    "    \"Full Fine-tuning\"\n",
    ")\n",
    "\n",
    "# Clean up GPU memory\n",
    "del model_full, optimizer_full, scheduler_full\n",
    "torch.cuda.empty_cache()\n"
   ]
  },
  {
   "cell_type": "code",
   "execution_count": 6,
   "metadata": {
    "colab": {
     "base_uri": "https://localhost:8080/",
     "height": 695,
     "referenced_widgets": [
      "e042407150c04ff39def2fdcb0cfd0e1",
      "1a681ffd4f974f3e86da7404100cbd24",
      "e85a35296a6a489d9ede303c5028d1dd",
      "64fb670813af451ca636feb90de0f089",
      "006b5e9c13034c8aa26a343ad027f57a",
      "2d21c7f0c85e4fb7bc2b2bfb5e66fcc8",
      "ac12d942f20a4f64b4e6302a4fec3dbd",
      "5d021950a6b44c9985ccfddfbb121539",
      "62b1d84367e04c28b2168c9d5cb435cd",
      "7bf1474e910942dca3b17a96eda4eb12",
      "f7950412e523461ca973d2249b035e0e",
      "e9d1955a86394ff882a47326a2877068",
      "3ff8c8bd3fc243b7a6c268b4c290a23a",
      "3e87334d8c3b44e4a4067addab3fb4fb",
      "4981a1d54558462783cc0291869d5d91",
      "42a70e8cc78941adbaee3e7134091e6b",
      "1a051fca4f6847e2a58961066b283955",
      "40f02ab30a9b47779249e6c89b6c877d",
      "e087e2d022d54aa48e352ea114a09d85",
      "688bf0e2ab514bc0bfc8f1f7637f652d",
      "55492deb86e0467e8b2b56a9317f8b67",
      "81c7a4d07c3949ffad7ec5071a4b2e94",
      "697e96f8960d48c2981df2917fde2d6e",
      "bced951c3f8e4094bea774a0e8f4d6a7",
      "ab1ac99bf9fc4a02a6bbc98ad1aa399b",
      "944037bb0bc148f7a876c0475938dc5b",
      "d3dcd618f52e4a76803ba99d89799dba",
      "e3543f7bb29a484aadddb1ef9b4f2b2a",
      "5773c0614e984a5a82b4678b1c28f85e",
      "312624aa432a4fceaf620a58054323bf",
      "e623c561314d458d8f6dbeb9485c2ee0",
      "6e95ca2e606a49348e88bf18eb8a14f6",
      "52029d17995442209c17d179c445f80d",
      "0b20f2a366ec445994c05f6616710c0f",
      "8e85ad71f0254690bad248999c304700",
      "f410e52b99834eec9d996b29c306381d",
      "67bb9d8a79074ae69ef8a381e90d8ddf",
      "be7a627869364ab5bab5659bab0bdd54",
      "a32ed85823bf42c2b31e62613a400717",
      "3bd137aa4d1f4cb18e1ba02b8c8331b2",
      "50b9df796e8e42f5a45e6c0f55cd6255",
      "4a87e574d34a4060a7879d87653dbab4",
      "60a59794cd7e48ee9623dd4049fe360a",
      "d2f1093fef6b4844927014f10ffcda57",
      "2ca53e0a8425465f977605554f3f761f",
      "f10a3e9ed5564391be6ab7a1146fcc98",
      "782408c98f164e6693c783adafa76bd6",
      "6fac23295c4b4a289ac0eb0fa102b741",
      "96a60648cb794eada1467a08684e04cb",
      "3ad35453b1bc4cdfa44af0fd10d3c6b4",
      "00c9e45f753d48b6b4c2e9f6fca78374",
      "24f945cd49f5432fbf6690d1a59bc6fc",
      "71c6a95abfce4ecda573d4b1de44cf96",
      "43e84a2900ea4fd889ecfb16ea2d978d",
      "f516a9053f5e49d1bbe6449c4eaede5b",
      "3c62ed7588ce455bac1cb8335a2056ab",
      "40f0951a011d4ca881c8fc55ac02eb74",
      "14b563d2ad3a460b8e842ee2f4b2e679",
      "e837c7943c694594b9a63893b5873d3b",
      "b4388491638b4ac8ae9788274b4dcaf8",
      "8b3456ad68c1414dad70a4d2316a64e9",
      "72812e3397dc43a99e0ce03b409ebe6a",
      "831467fd36e04b0a8c00bd89f2e35d7e",
      "cfbcdf9d7adf43528439b5150d0eeb70",
      "e17da208a36548df8a6f97432cec85db",
      "854c93c2bef64eb28082509f0f0f7e54"
     ]
    },
    "id": "moVr3DSZu8RA",
    "outputId": "3f8a0a43-3caa-4b83-c496-11460aaff4bc"
   },
   "outputs": [
    {
     "name": "stdout",
     "output_type": "stream",
     "text": [
      "\n",
      "================================================================================\n",
      "METHOD 2: LoRA (Low-Rank Adaptation)\n",
      "================================================================================\n",
      "trainable params: 589,824 || all params: 61,096,448 || trainable%: 0.9654\n",
      "\n",
      "================================================================================\n",
      "Training: LoRA\n",
      "================================================================================\n",
      "Trainable parameters: 589,824 (0.97% of 61,096,448)\n"
     ]
    },
    {
     "data": {
      "application/vnd.jupyter.widget-view+json": {
       "model_id": "e042407150c04ff39def2fdcb0cfd0e1",
       "version_major": 2,
       "version_minor": 0
      },
      "text/plain": [
       "Epoch 1/3:   0%|          | 0/625 [00:00<?, ?it/s]"
      ]
     },
     "metadata": {},
     "output_type": "display_data"
    },
    {
     "data": {
      "application/vnd.jupyter.widget-view+json": {
       "model_id": "e9d1955a86394ff882a47326a2877068",
       "version_major": 2,
       "version_minor": 0
      },
      "text/plain": [
       "Evaluating:   0%|          | 0/63 [00:00<?, ?it/s]"
      ]
     },
     "metadata": {},
     "output_type": "display_data"
    },
    {
     "name": "stdout",
     "output_type": "stream",
     "text": [
      "\n",
      "Epoch 1/3\n",
      "  Train Loss: 2.0530\n",
      "  Eval Loss: 0.1634\n",
      "  Eval Accuracy: 86.30%\n",
      "   New best model saved (accuracy: 86.30%)\n"
     ]
    },
    {
     "data": {
      "application/vnd.jupyter.widget-view+json": {
       "model_id": "697e96f8960d48c2981df2917fde2d6e",
       "version_major": 2,
       "version_minor": 0
      },
      "text/plain": [
       "Epoch 2/3:   0%|          | 0/625 [00:00<?, ?it/s]"
      ]
     },
     "metadata": {},
     "output_type": "display_data"
    },
    {
     "data": {
      "application/vnd.jupyter.widget-view+json": {
       "model_id": "0b20f2a366ec445994c05f6616710c0f",
       "version_major": 2,
       "version_minor": 0
      },
      "text/plain": [
       "Evaluating:   0%|          | 0/63 [00:00<?, ?it/s]"
      ]
     },
     "metadata": {},
     "output_type": "display_data"
    },
    {
     "name": "stdout",
     "output_type": "stream",
     "text": [
      "\n",
      "Epoch 2/3\n",
      "  Train Loss: 0.1687\n",
      "  Eval Loss: 0.1491\n",
      "  Eval Accuracy: 87.20%\n",
      "   New best model saved (accuracy: 87.20%)\n"
     ]
    },
    {
     "data": {
      "application/vnd.jupyter.widget-view+json": {
       "model_id": "2ca53e0a8425465f977605554f3f761f",
       "version_major": 2,
       "version_minor": 0
      },
      "text/plain": [
       "Epoch 3/3:   0%|          | 0/625 [00:00<?, ?it/s]"
      ]
     },
     "metadata": {},
     "output_type": "display_data"
    },
    {
     "data": {
      "application/vnd.jupyter.widget-view+json": {
       "model_id": "3c62ed7588ce455bac1cb8335a2056ab",
       "version_major": 2,
       "version_minor": 0
      },
      "text/plain": [
       "Evaluating:   0%|          | 0/63 [00:00<?, ?it/s]"
      ]
     },
     "metadata": {},
     "output_type": "display_data"
    },
    {
     "name": "stdout",
     "output_type": "stream",
     "text": [
      "\n",
      "Epoch 3/3\n",
      "  Train Loss: 0.1591\n",
      "  Eval Loss: 0.1466\n",
      "  Eval Accuracy: 87.30%\n",
      "   New best model saved (accuracy: 87.30%)\n"
     ]
    }
   ],
   "source": [
    "\n",
    "\n",
    "\n",
    "\n",
    "\n",
    "# ============================================================================\n",
    "#  LoRA (Low-Rank Adaptation)\n",
    "# ============================================================================\n",
    "\n",
    "print(\"\\n\" + \"=\"*80)\n",
    "print(\"METHOD 2: LoRA (Low-Rank Adaptation)\")\n",
    "print(\"=\"*80)\n",
    "\n",
    "# Load base model\n",
    "model_lora = T5ForConditionalGeneration.from_pretrained(\"t5-small\")\n",
    "\n",
    "# Configure LoRA\n",
    "lora_config = LoraConfig(\n",
    "    task_type=TaskType.SEQ_2_SEQ_LM,\n",
    "    inference_mode=False,\n",
    "    r=16,  # Rank\n",
    "    lora_alpha=32,  # Scaling factor\n",
    "    lora_dropout=0.1,\n",
    "    target_modules=[\"q\", \"v\"],  # Apply to query and value projections\n",
    ")\n",
    "\n",
    "# Apply LoRA\n",
    "model_lora = get_peft_model(model_lora, lora_config)\n",
    "model_lora.print_trainable_parameters()\n",
    "\n",
    "# Optimizer and scheduler\n",
    "optimizer_lora = AdamW(model_lora.parameters(), lr=LEARNING_RATE)\n",
    "scheduler_lora = get_linear_schedule_with_warmup(\n",
    "    optimizer_lora,\n",
    "    num_warmup_steps=WARMUP_STEPS,\n",
    "    num_training_steps=total_steps\n",
    ")\n",
    "\n",
    "# Train\n",
    "history_lora = train_model(\n",
    "    model_lora,\n",
    "    train_dataloader,\n",
    "    eval_dataloader,\n",
    "    optimizer_lora,\n",
    "    scheduler_lora,\n",
    "    NUM_EPOCHS,\n",
    "    device,\n",
    "    \"LoRA\"\n",
    ")\n",
    "\n",
    "# Clean up\n",
    "del model_lora, optimizer_lora, scheduler_lora\n",
    "torch.cuda.empty_cache()"
   ]
  },
  {
   "cell_type": "code",
   "execution_count": 12,
   "metadata": {
    "colab": {
     "base_uri": "https://localhost:8080/",
     "height": 782,
     "referenced_widgets": [
      "02c2a2cb69f745acbb45ec69fd28d8be",
      "d1eaf6c545794629ba8d1232061ee254",
      "41ebf5a1cf2c40c48e5210e158c4b93b",
      "a347c153dac344a49eb13ea063c380a0",
      "cad323e477e048818d6c5f49e344157a",
      "1cbe4ebd9f51491382c2bf5e7aa293d1",
      "ba4b6e434bf94ebb9c276e61c31eb5fd",
      "d422a157fe3447318d9a1c43a10bdb73",
      "554429e51922480f9dc84ba5d7b36322",
      "b5f0860d1e4f40c696011842adb5d60d",
      "44c4688951c940a1a1e11518220cd1bc",
      "e72c998800f34f03818693402b94e48e",
      "87cbc937bea2408d998af37026c0e632",
      "5a30160a0ad84f82a221740bcb79bd30",
      "3f049f40fa9641c3883c04930dbf2deb",
      "e1a208bc31c143359e1ac3682378b3d0",
      "a76af5476c77414aafbcbcf5348e91ca",
      "469b687d3e804e279b63a87078fefcee",
      "d6e64a3cfbfa4cc2b03ae67e8fd7266e",
      "700a669d796040cf9bd9a07ab27f49d0",
      "a92192d4066d4a1da603692c1aed4537",
      "b7c0d5d41ef24235a27f5cfc84eb9839",
      "a51cdcd2fd8449d7954fbc0981923a39",
      "727bf0a0d7ca4f1680a53aebc4394df2",
      "2f1008dbb8e24a30805fbfb6ba4d86ee",
      "801b4512b99b4715b0114b7034cbc974",
      "aaac87b480a44eaaab48a56d05a1df3e",
      "44113d485b90455d8f35cdf0a4ae3056",
      "921271d9ffe94b46bb55f3895625a29c",
      "09029c36aeeb47c6b7fdbcc1e184fd4d",
      "e6bf831b35124382a3ebce762ae3c038",
      "22954ca5d05649588b709d9e729254a3",
      "c19ba77e6b2248e380fd5c12da945ec2",
      "c2f59e10baaf49cf90619807f3dc5d77",
      "0492d7826cc44d90b25d24755ea643af",
      "252f29e835c94292822bacabf2f8c6e8",
      "ec2a819ecb6a464895b9f7834b89b545",
      "de291869d45e48bd8b6a5db849bee943",
      "8fc562c73af74ef98fa4765b7eea7176",
      "8706a58c140446c1bab566615e2fe340",
      "69402980d2f84bda9e18a7fe784633b0",
      "dda50ddbda00463aad80b680d7bdb194",
      "b5c120f077e542e99d9de726ab30947c",
      "6ed56f3bc3c749b18aadd0c48c08a41a",
      "2d48b187c9e84f62812a669ee9a53b06",
      "2e4b96ea4d384a60b502255acc88536f",
      "a2880b5906b0445eafaeca3285448e94",
      "bc78ced40fd54066a501af84da3306be",
      "25c27b1fd9534942afa245e367421d40",
      "c9253c635e7140a2ad92b58b73b3ae2f",
      "01e7ef4f1bd04931bd2cf71bcd9b9149",
      "29f131fb4b904892abb80ae6bae25601",
      "afbaa0cc42964504830ebb0556d681ad",
      "4606851069ac4ffd997f63ea5cfb18c8",
      "dc31331ff2fb443b9b607654fae5bf05",
      "07172a7f4612415ca8f64b31aba4c785",
      "4e441b2caa1844f8b8851eff7507b0ce",
      "db64439306014964983fa0b95f170d2d",
      "49f6040549f545ea8870b48c5421a4b9",
      "68c30cf89f3f4931a2bfc9f912862cb5",
      "58bb0b0e6fca417fa6c6b1e4279c1905",
      "7349460e7c2a41f389ff0c5f7fd6a518",
      "6fb4cc351620413cb4ee074cb9289de6",
      "63890b1e27d6474b9e6e4fc0735602bd",
      "01df37ca39ad4c60b0508f7c0ddcadb4",
      "0684945b90a445a4b0f44897012ff0d8"
     ]
    },
    "id": "VFzkYgQOu8Nd",
    "outputId": "d377e84c-8041-4489-8aaf-8c2b3a488dee"
   },
   "outputs": [
    {
     "name": "stdout",
     "output_type": "stream",
     "text": [
      "\n",
      "================================================================================\n",
      "METHOD 3: SOFT PROMPTS (P-Tuning v2)\n",
      "================================================================================\n",
      "\n",
      "P-Tuning v2 Trainable Parameters:\n",
      "trainable params: 839,168 || all params: 61,345,792 || trainable%: 1.3679\n",
      "\n",
      "Training P-Tuning v2 model...\n",
      "\n",
      "================================================================================\n",
      "Training: Soft Prompts (P-Tuning v2)\n",
      "================================================================================\n",
      "Trainable parameters: 839,168 (1.37% of 61,345,792)\n"
     ]
    },
    {
     "data": {
      "application/vnd.jupyter.widget-view+json": {
       "model_id": "02c2a2cb69f745acbb45ec69fd28d8be",
       "version_major": 2,
       "version_minor": 0
      },
      "text/plain": [
       "Epoch 1/3:   0%|          | 0/625 [00:00<?, ?it/s]"
      ]
     },
     "metadata": {},
     "output_type": "display_data"
    },
    {
     "data": {
      "application/vnd.jupyter.widget-view+json": {
       "model_id": "e72c998800f34f03818693402b94e48e",
       "version_major": 2,
       "version_minor": 0
      },
      "text/plain": [
       "Evaluating:   0%|          | 0/63 [00:00<?, ?it/s]"
      ]
     },
     "metadata": {},
     "output_type": "display_data"
    },
    {
     "name": "stdout",
     "output_type": "stream",
     "text": [
      "\n",
      "Epoch 1/3\n",
      "  Train Loss: 0.8015\n",
      "  Eval Loss: 0.1727\n",
      "  Eval Accuracy: 84.70%\n",
      "   New best model saved (accuracy: 84.70%)\n"
     ]
    },
    {
     "data": {
      "application/vnd.jupyter.widget-view+json": {
       "model_id": "a51cdcd2fd8449d7954fbc0981923a39",
       "version_major": 2,
       "version_minor": 0
      },
      "text/plain": [
       "Epoch 2/3:   0%|          | 0/625 [00:00<?, ?it/s]"
      ]
     },
     "metadata": {},
     "output_type": "display_data"
    },
    {
     "data": {
      "application/vnd.jupyter.widget-view+json": {
       "model_id": "c2f59e10baaf49cf90619807f3dc5d77",
       "version_major": 2,
       "version_minor": 0
      },
      "text/plain": [
       "Evaluating:   0%|          | 0/63 [00:00<?, ?it/s]"
      ]
     },
     "metadata": {},
     "output_type": "display_data"
    },
    {
     "name": "stdout",
     "output_type": "stream",
     "text": [
      "\n",
      "Epoch 2/3\n",
      "  Train Loss: 0.1983\n",
      "  Eval Loss: 0.1772\n",
      "  Eval Accuracy: 84.60%\n"
     ]
    },
    {
     "data": {
      "application/vnd.jupyter.widget-view+json": {
       "model_id": "2d48b187c9e84f62812a669ee9a53b06",
       "version_major": 2,
       "version_minor": 0
      },
      "text/plain": [
       "Epoch 3/3:   0%|          | 0/625 [00:00<?, ?it/s]"
      ]
     },
     "metadata": {},
     "output_type": "display_data"
    },
    {
     "data": {
      "application/vnd.jupyter.widget-view+json": {
       "model_id": "07172a7f4612415ca8f64b31aba4c785",
       "version_major": 2,
       "version_minor": 0
      },
      "text/plain": [
       "Evaluating:   0%|          | 0/63 [00:00<?, ?it/s]"
      ]
     },
     "metadata": {},
     "output_type": "display_data"
    },
    {
     "name": "stdout",
     "output_type": "stream",
     "text": [
      "\n",
      "Epoch 3/3\n",
      "  Train Loss: 0.1882\n",
      "  Eval Loss: 0.1690\n",
      "  Eval Accuracy: 84.80%\n",
      "   New best model saved (accuracy: 84.80%)\n",
      "Saved P-Tuning v2 adapter to: ./p_tuning_v2_adapter\n",
      "P-Tuning v2 training completed!\n"
     ]
    }
   ],
   "source": [
    "# ============================================================================\n",
    "# Soft Prompts (P-Tuning v2 - Much Better than Prompt Tuning)\n",
    "# ============================================================================\n",
    "\n",
    "print(\"\\n\" + \"=\"*80)\n",
    "print(\"METHOD 3: SOFT PROMPTS (P-Tuning v2)\")\n",
    "print(\"=\"*80)\n",
    "\n",
    "from peft import PromptEncoderConfig, PromptEncoderReparameterizationType\n",
    "\n",
    "# Load base model\n",
    "model_prefix = T5ForConditionalGeneration.from_pretrained(\"t5-small\")\n",
    "model_prefix.config.use_cache = False\n",
    "\n",
    "# Configure P-Tuning v2 (adds prompts to EVERY layer, not just input)\n",
    "# This trains many more parameters and converges much better\n",
    "prefix_config = PromptEncoderConfig(\n",
    "    task_type=TaskType.SEQ_2_SEQ_LM,\n",
    "    num_virtual_tokens=50,  # Increased from 20 to 50 for better capacity\n",
    "    encoder_reparameterization_type=PromptEncoderReparameterizationType.MLP,  # Use MLP\n",
    "    encoder_hidden_size=512,  # Hidden size for the MLP\n",
    "    encoder_num_layers=2,  # 2-layer MLP for reparameterization\n",
    "    encoder_dropout=0.1,  # Dropout for regularization\n",
    ")\n",
    "\n",
    "# Apply P-Tuning v2\n",
    "model_prefix = get_peft_model(model_prefix, prefix_config)\n",
    "print(\"\\nP-Tuning v2 Trainable Parameters:\")\n",
    "model_prefix.print_trainable_parameters()\n",
    "\n",
    "# Move to device\n",
    "model_prefix = model_prefix.to(device)\n",
    "\n",
    "# Optimizer with slightly higher learning rate for soft prompts\n",
    "optimizer_prefix = AdamW(model_prefix.parameters(), lr=3e-4)  # Increased from default\n",
    "scheduler_prefix = get_linear_schedule_with_warmup(\n",
    "    optimizer_prefix,\n",
    "    num_warmup_steps=WARMUP_STEPS,\n",
    "    num_training_steps=total_steps\n",
    ")\n",
    "\n",
    "# Training\n",
    "print(\"\\nTraining P-Tuning v2 model...\")\n",
    "history_prefix = train_model(\n",
    "    model_prefix,\n",
    "    train_dataloader,\n",
    "    eval_dataloader,\n",
    "    optimizer_prefix,\n",
    "    scheduler_prefix,\n",
    "    NUM_EPOCHS,\n",
    "    device,\n",
    "    \"Soft Prompts (P-Tuning v2)\"\n",
    ")\n",
    "\n",
    "# Save adapter\n",
    "model_prefix.save_pretrained(\"./p_tuning_v2_adapter\")\n",
    "print(\"Saved P-Tuning v2 adapter to: ./p_tuning_v2_adapter\")\n",
    "\n",
    "# Clean up\n",
    "del model_prefix, optimizer_prefix, scheduler_prefix\n",
    "if torch.cuda.is_available():\n",
    "    torch.cuda.empty_cache()\n",
    "\n",
    "print(\"P-Tuning v2 training completed!\")"
   ]
  },
  {
   "cell_type": "code",
   "execution_count": 16,
   "metadata": {
    "colab": {
     "base_uri": "https://localhost:8080/",
     "height": 782,
     "referenced_widgets": [
      "00d1f33c5da8460084a30c5e2b95d82e",
      "0c9c3465d1b94211ac5f05c44f5c7251",
      "1fa9582b8fa4490bbdb0bdfe7e93fff2",
      "313634c74ba34adab8a4fccefd369b9e",
      "833167bf7b6a4d6180218afdf2175053",
      "201a62160e7b4c5d916745fb993a40df",
      "2934c5d07a004da28559a86c60d3944d",
      "fbfd3323374e4c9abfd187004c7fa815",
      "e9a5eb5a824d4db39625761ad2f86939",
      "51bd5b5cc3d949e0a68e82970e433d99",
      "dc2973807aaf48b08270f1ac936d6215",
      "41d442e1f3c74af493346fe3103d87d1",
      "357641d73fd04d4e93535a1fd85ec919",
      "a29f7cfe27e74b5c8ee62b47ff9ae4ff",
      "c077d1ec46fc4ba6a91240d804ca8f02",
      "17559a690fc34ef3af72b6caec84302d",
      "b9901d24eb1b4e939f6f7dbf8f06b050",
      "a4ae512c7162411c9f31bd32fa3509b3",
      "b5e21140dc7441a1a1a4bf090b5c9791",
      "68719530652c4e95ac25ae450c24b985",
      "26be0f732b0d4e21a2d8e0e247a4c102",
      "76eb81559c514cfeaddf7f743693191c",
      "8b74bfacd262410a9cecf43587f4b988",
      "4300f2be78d24c03a526cec730866552",
      "a45bf292582a4a599f8684da718a1bfd",
      "494cf68fecf44f029eec6e5a47a1488e",
      "ad5b1a68145b4267bc5cb6dc4bb12a92",
      "9e52609f40b247d3aac3d3cc933088a2",
      "2660874fc6ee44fda54552d7c5679d42",
      "49ee70a1e2fc44c39eaf080f82adc401",
      "8a8da3b946a74fbb98b4f49513f55702",
      "40417121e74549388086fdfa008282a1",
      "48eb42a0650d4fc3b97f1a5216dab84a",
      "36be1876629a40258bb5aa4cf852452c",
      "91672cd1e65040ebb4b5c5db65137479",
      "36e967ac597749f4bba2e6a5b613b471",
      "fb7179fd302941599d5a07a4daea2822",
      "49959ed108f549c6ac05b313a43a3cf2",
      "644b086334fe47808160663171be31f9",
      "bb304945ff85410690b403c48c141855",
      "63c8a024699a44eb8d8597f736ddcda8",
      "038ad7a51fb441debae0b5b8a1598fb3",
      "8ca5ff21b90e4a868f1d512ab919dba0",
      "2f640b052e004f5d93ceacc744ec733d",
      "bd4c718f2f0e409f81b044d467de5b2f",
      "0379685548554a509f506e45c7bf1b34",
      "acacda548b4d48b08991797240a8fecc",
      "195abce5bf6c4f3081f5b113a11b37fb",
      "bbd25deddde44bb58684c88a14fb9ed4",
      "f3e21c581eae4c2594fecc752308ea4a",
      "121ef579264d4e1e8fdb0717248f8921",
      "93ea59717d8e4f2bbb0a8882c092b4cb",
      "2ed43e451f7641428caacf0ceed3bce8",
      "7834367ba2ba43ee95d573b85564c17f",
      "49dcdb3179604d53b122de965de8cc8a",
      "89c9e1119398410ea3694d0a7cecc8c5",
      "9dad907caac049d6894471c4130001fb",
      "aa7b1a7dc16f4dfbbedafa6781922c79",
      "1c66cc578dc047738998667745b61247",
      "556a6bf478ec48608cdf7b10907cd124",
      "14b11e17ff1a403781f7cb66d5ac6c3e",
      "f24c1aeee2d04c48a69dc979b911e284",
      "94cb156220d246bbae30e90dd277a5f1",
      "c22f93ce65db4282a232a680e952fbc7",
      "ad3ab1a3e6864de9b4492cb9baa693f9",
      "0abc0cf1fbfe4677a592f69b8400051b"
     ]
    },
    "id": "UOqYRcPGvSB_",
    "outputId": "1b81463e-0e3e-4570-f0e3-945fd095706e"
   },
   "outputs": [
    {
     "name": "stdout",
     "output_type": "stream",
     "text": [
      "\n",
      "================================================================================\n",
      "METHOD: ADAPTERS (AdaLoRA)\n",
      "================================================================================\n",
      "\n",
      "AdaLoRA Trainable Parameters:\n",
      "trainable params: 2,164,224 || all params: 62,670,944 || trainable%: 3.4533\n",
      "\n",
      "Training AdaLoRA Adapter model...\n",
      "\n",
      "================================================================================\n",
      "Training: Adapters (AdaLoRA)\n",
      "================================================================================\n",
      "Trainable parameters: 2,164,224 (3.45% of 62,670,944)\n"
     ]
    },
    {
     "data": {
      "application/vnd.jupyter.widget-view+json": {
       "model_id": "00d1f33c5da8460084a30c5e2b95d82e",
       "version_major": 2,
       "version_minor": 0
      },
      "text/plain": [
       "Epoch 1/3:   0%|          | 0/625 [00:00<?, ?it/s]"
      ]
     },
     "metadata": {},
     "output_type": "display_data"
    },
    {
     "data": {
      "application/vnd.jupyter.widget-view+json": {
       "model_id": "41d442e1f3c74af493346fe3103d87d1",
       "version_major": 2,
       "version_minor": 0
      },
      "text/plain": [
       "Evaluating:   0%|          | 0/63 [00:00<?, ?it/s]"
      ]
     },
     "metadata": {},
     "output_type": "display_data"
    },
    {
     "name": "stdout",
     "output_type": "stream",
     "text": [
      "\n",
      "Epoch 1/3\n",
      "  Train Loss: 5.6933\n",
      "  Eval Loss: 0.2864\n",
      "  Eval Accuracy: 85.30%\n",
      "   New best model saved (accuracy: 85.30%)\n"
     ]
    },
    {
     "data": {
      "application/vnd.jupyter.widget-view+json": {
       "model_id": "8b74bfacd262410a9cecf43587f4b988",
       "version_major": 2,
       "version_minor": 0
      },
      "text/plain": [
       "Epoch 2/3:   0%|          | 0/625 [00:00<?, ?it/s]"
      ]
     },
     "metadata": {},
     "output_type": "display_data"
    },
    {
     "data": {
      "application/vnd.jupyter.widget-view+json": {
       "model_id": "36be1876629a40258bb5aa4cf852452c",
       "version_major": 2,
       "version_minor": 0
      },
      "text/plain": [
       "Evaluating:   0%|          | 0/63 [00:00<?, ?it/s]"
      ]
     },
     "metadata": {},
     "output_type": "display_data"
    },
    {
     "name": "stdout",
     "output_type": "stream",
     "text": [
      "\n",
      "Epoch 2/3\n",
      "  Train Loss: 0.2711\n",
      "  Eval Loss: 0.2006\n",
      "  Eval Accuracy: 86.30%\n",
      "   New best model saved (accuracy: 86.30%)\n"
     ]
    },
    {
     "data": {
      "application/vnd.jupyter.widget-view+json": {
       "model_id": "bd4c718f2f0e409f81b044d467de5b2f",
       "version_major": 2,
       "version_minor": 0
      },
      "text/plain": [
       "Epoch 3/3:   0%|          | 0/625 [00:00<?, ?it/s]"
      ]
     },
     "metadata": {},
     "output_type": "display_data"
    },
    {
     "data": {
      "application/vnd.jupyter.widget-view+json": {
       "model_id": "89c9e1119398410ea3694d0a7cecc8c5",
       "version_major": 2,
       "version_minor": 0
      },
      "text/plain": [
       "Evaluating:   0%|          | 0/63 [00:00<?, ?it/s]"
      ]
     },
     "metadata": {},
     "output_type": "display_data"
    },
    {
     "name": "stdout",
     "output_type": "stream",
     "text": [
      "\n",
      "Epoch 3/3\n",
      "  Train Loss: 0.2129\n",
      "  Eval Loss: 0.1797\n",
      "  Eval Accuracy: 86.10%\n",
      "Saved AdaLoRA adapter to: ./adalora_adapter\n",
      "AdaLoRA Adapter training completed!\n"
     ]
    }
   ],
   "source": [
    "# ============================================================================\n",
    "# METHOD: ADAPTERS (Using AdaLoRA with proper configuration)\n",
    "# ============================================================================\n",
    "\n",
    "print(\"\\n\" + \"=\"*80)\n",
    "print(\"METHOD: ADAPTERS (AdaLoRA)\")\n",
    "print(\"=\"*80)\n",
    "\n",
    "from peft import AdaLoraConfig\n",
    "\n",
    "# Load base model\n",
    "model_adapter = T5ForConditionalGeneration.from_pretrained(\"t5-small\")\n",
    "model_adapter.config.use_cache = False\n",
    "\n",
    "# Calculate total training steps\n",
    "total_training_steps = len(train_dataloader) * NUM_EPOCHS\n",
    "\n",
    "# Configure AdaLoRA - adaptive LoRA that dynamically adjusts ranks\n",
    "adapter_config = AdaLoraConfig(\n",
    "    task_type=TaskType.SEQ_2_SEQ_LM,\n",
    "    inference_mode=False,\n",
    "    lora_alpha=32,\n",
    "    target_modules=[\"q\", \"k\", \"v\", \"o\", \"wi\", \"wo\"],  # All attention + FFN\n",
    "    lora_dropout=0.1,\n",
    "    init_r=16,  # Start with rank 16\n",
    "    target_r=8,  # Prune down to rank 8\n",
    "    tinit=200,  # Start pruning after 200 steps\n",
    "    tfinal=1000,  # Finish pruning by step 1000\n",
    "    deltaT=10,  # Update importance scores every 10 steps\n",
    "    total_step=total_training_steps,  # Required parameter\n",
    "    orth_reg_weight=0.5,  # Orthogonality regularization\n",
    ")\n",
    "\n",
    "# Apply AdaLoRA\n",
    "model_adapter = get_peft_model(model_adapter, adapter_config)\n",
    "print(\"\\nAdaLoRA Trainable Parameters:\")\n",
    "model_adapter.print_trainable_parameters()\n",
    "\n",
    "# Move to device\n",
    "model_adapter = model_adapter.to(device)\n",
    "\n",
    "# Optimizer and scheduler\n",
    "optimizer_adapter = AdamW(model_adapter.parameters(), lr=LEARNING_RATE)\n",
    "scheduler_adapter = get_linear_schedule_with_warmup(\n",
    "    optimizer_adapter,\n",
    "    num_warmup_steps=WARMUP_STEPS,\n",
    "    num_training_steps=total_training_steps\n",
    ")\n",
    "\n",
    "# Training\n",
    "print(\"\\nTraining AdaLoRA Adapter model...\")\n",
    "history_adapter = train_model(\n",
    "    model_adapter,\n",
    "    train_dataloader,\n",
    "    eval_dataloader,\n",
    "    optimizer_adapter,\n",
    "    scheduler_adapter,\n",
    "    NUM_EPOCHS,\n",
    "    device,\n",
    "    \"Adapters (AdaLoRA)\"\n",
    ")\n",
    "\n",
    "# Save adapter\n",
    "model_adapter.save_pretrained(\"./adalora_adapter\")\n",
    "print(\"Saved AdaLoRA adapter to: ./adalora_adapter\")\n",
    "\n",
    "# Clean up\n",
    "del model_adapter, optimizer_adapter, scheduler_adapter\n",
    "if torch.cuda.is_available():\n",
    "    torch.cuda.empty_cache()\n",
    "\n",
    "print(\"AdaLoRA Adapter training completed!\")"
   ]
  },
  {
   "cell_type": "code",
   "execution_count": 17,
   "metadata": {
    "colab": {
     "base_uri": "https://localhost:8080/",
     "height": 1000
    },
    "id": "WleJzHFxtrh1",
    "outputId": "519fa41d-f246-4040-b7e0-323c82c385be"
   },
   "outputs": [
    {
     "name": "stdout",
     "output_type": "stream",
     "text": [
      "\n",
      "================================================================================\n",
      "PERFORMANCE COMPARISON\n",
      "================================================================================\n",
      "\n",
      "Method               Best Accuracy   Final Loss      Trainable Params    \n",
      "---------------------------------------------------------------------------\n",
      "Full Fine-tuning     90.50          % 0.1362          60,506,624 (100.00%)\n",
      "LoRA                 87.30          % 0.1466             589,824 (0.97%)\n",
      "Soft Prompts (P-Tuning v2) 84.80          % 0.1690             839,168 (1.37%)\n",
      "Adapters (AdaLoRA)   86.30          % 0.1797           2,164,224 (3.45%)\n",
      "\n",
      "================================================================================\n",
      "PARAMETER EFFICIENCY ANALYSIS\n",
      "================================================================================\n",
      "\n",
      "LoRA:\n",
      "  Parameter Reduction: 99.0%\n",
      "  Accuracy Drop: +3.20%\n",
      "  Efficiency Score: 30.95x\n",
      "\n",
      "Soft Prompts (P-Tuning v2):\n",
      "  Parameter Reduction: 98.6%\n",
      "  Accuracy Drop: +5.70%\n",
      "  Efficiency Score: 17.30x\n",
      "\n",
      "Adapters (AdaLoRA):\n",
      "  Parameter Reduction: 96.4%\n",
      "  Accuracy Drop: +4.20%\n",
      "  Efficiency Score: 22.96x\n",
      "\n",
      " Comparison plot saved as 't5_peft_comparison.png'\n"
     ]
    },
    {
     "data": {
      "image/png": "[encoded data removed]",
      "text/plain": [
       "<Figure size 1500x1000 with 4 Axes>"
      ]
     },
     "metadata": {},
     "output_type": "display_data"
    },
    {
     "name": "stdout",
     "output_type": "stream",
     "text": [
      " Results saved to 't5_peft_results.json'\n"
     ]
    }
   ],
   "source": [
    "\n",
    "# ============================================================================\n",
    "#  Comparison and Visualization\n",
    "# ============================================================================\n",
    "\n",
    "print(\"\\n\" + \"=\"*80)\n",
    "print(\"PERFORMANCE COMPARISON\")\n",
    "print(\"=\"*80)\n",
    "\n",
    "# Collect all histories\n",
    "all_histories = [history_full, history_lora, history_prefix, history_adapter]\n",
    "\n",
    "# Print comparison table\n",
    "print(\"\\n{:<20} {:<15} {:<15} {:<20}\".format(\n",
    "    \"Method\", \"Best Accuracy\", \"Final Loss\", \"Trainable Params\"\n",
    "))\n",
    "print(\"-\" * 75)\n",
    "\n",
    "for hist in all_histories:\n",
    "    best_acc = max(hist[\"eval_accuracy\"]) * 100\n",
    "    final_loss = hist[\"eval_loss\"][-1]\n",
    "    trainable = hist[\"trainable_params\"]\n",
    "    trainable_pct = hist[\"trainable_pct\"]\n",
    "\n",
    "    print(\"{:<20} {:<15.2f}% {:<15.4f} {:>10,} ({:.2f}%)\".format(\n",
    "        hist[\"method\"],\n",
    "        best_acc,\n",
    "        final_loss,\n",
    "        trainable,\n",
    "        trainable_pct\n",
    "    ))\n",
    "\n",
    "# Calculate parameter efficiency\n",
    "print(\"\\n\" + \"=\"*80)\n",
    "print(\"PARAMETER EFFICIENCY ANALYSIS\")\n",
    "print(\"=\"*80)\n",
    "\n",
    "baseline_params = history_full[\"trainable_params\"]\n",
    "for hist in all_histories[1:]:  # Skip baseline\n",
    "    reduction = (1 - hist[\"trainable_params\"] / baseline_params) * 100\n",
    "    acc_drop = (max(history_full[\"eval_accuracy\"]) - max(hist[\"eval_accuracy\"])) * 100\n",
    "\n",
    "    print(f\"\\n{hist['method']}:\")\n",
    "    print(f\"  Parameter Reduction: {reduction:.1f}%\")\n",
    "    print(f\"  Accuracy Drop: {acc_drop:+.2f}%\")\n",
    "    print(f\"  Efficiency Score: {reduction / max(abs(acc_drop), 0.1):.2f}x\")\n",
    "\n",
    "# Plotting\n",
    "fig, axes = plt.subplots(2, 2, figsize=(15, 10))\n",
    "\n",
    "# Plot 1: Training Loss\n",
    "ax = axes[0, 0]\n",
    "for hist in all_histories:\n",
    "    ax.plot(hist[\"train_loss\"], label=hist[\"method\"], marker='o')\n",
    "ax.set_xlabel(\"Epoch\")\n",
    "ax.set_ylabel(\"Training Loss\")\n",
    "ax.set_title(\"Training Loss Comparison\")\n",
    "ax.legend()\n",
    "ax.grid(True, alpha=0.3)\n",
    "\n",
    "# Plot 2: Evaluation Accuracy\n",
    "ax = axes[0, 1]\n",
    "for hist in all_histories:\n",
    "    ax.plot([acc * 100 for acc in hist[\"eval_accuracy\"]], label=hist[\"method\"], marker='o')\n",
    "ax.set_xlabel(\"Epoch\")\n",
    "ax.set_ylabel(\"Accuracy (%)\")\n",
    "ax.set_title(\"Evaluation Accuracy Comparison\")\n",
    "ax.legend()\n",
    "ax.grid(True, alpha=0.3)\n",
    "\n",
    "# Plot 3: Parameter Efficiency\n",
    "ax = axes[1, 0]\n",
    "methods = [h[\"method\"] for h in all_histories]\n",
    "accuracies = [max(h[\"eval_accuracy\"]) * 100 for h in all_histories]\n",
    "params = [h[\"trainable_pct\"] for h in all_histories]\n",
    "\n",
    "scatter = ax.scatter(params, accuracies, s=200, alpha=0.6, c=range(len(methods)), cmap='viridis')\n",
    "for i, method in enumerate(methods):\n",
    "    ax.annotate(method, (params[i], accuracies[i]),\n",
    "                xytext=(5, 5), textcoords='offset points', fontsize=9)\n",
    "ax.set_xlabel(\"Trainable Parameters (%)\")\n",
    "ax.set_ylabel(\"Best Accuracy (%)\")\n",
    "ax.set_title(\"Parameter Efficiency vs Accuracy\")\n",
    "ax.grid(True, alpha=0.3)\n",
    "\n",
    "# Plot 4: Bar chart comparison\n",
    "ax = axes[1, 1]\n",
    "x = np.arange(len(methods))\n",
    "width = 0.35\n",
    "\n",
    "acc_bars = ax.bar(x - width/2, accuracies, width, label='Accuracy (%)', alpha=0.8)\n",
    "param_bars = ax.bar(x + width/2, params, width, label='Trainable Params (%)', alpha=0.8)\n",
    "\n",
    "ax.set_xlabel(\"Method\")\n",
    "ax.set_ylabel(\"Percentage\")\n",
    "ax.set_title(\"Accuracy vs Trainable Parameters\")\n",
    "ax.set_xticks(x)\n",
    "ax.set_xticklabels(methods, rotation=45, ha='right')\n",
    "ax.legend()\n",
    "ax.grid(True, alpha=0.3, axis='y')\n",
    "\n",
    "plt.tight_layout()\n",
    "plt.savefig(\"t5_peft_comparison.png\", dpi=300, bbox_inches='tight')\n",
    "print(\"\\n Comparison plot saved as 't5_peft_comparison.png'\")\n",
    "plt.show()\n",
    "\n",
    "# Save results to JSON\n",
    "results = {\n",
    "    \"timestamp\": datetime.now().isoformat(),\n",
    "    \"config\": {\n",
    "        \"max_seq_length\": MAX_SEQ_LENGTH,\n",
    "        \"batch_size\": BATCH_SIZE,\n",
    "        \"learning_rate\": LEARNING_RATE,\n",
    "        \"num_epochs\": NUM_EPOCHS,\n",
    "        \"train_samples\": len(train_dataset),\n",
    "        \"eval_samples\": len(eval_dataset)\n",
    "    },\n",
    "    \"results\": {\n",
    "        hist[\"method\"]: {\n",
    "            \"best_accuracy\": float(max(hist[\"eval_accuracy\"])),\n",
    "            \"final_loss\": float(hist[\"eval_loss\"][-1]),\n",
    "            \"trainable_params\": int(hist[\"trainable_params\"]),\n",
    "            \"trainable_pct\": float(hist[\"trainable_pct\"]),\n",
    "            \"history\": {\n",
    "                \"train_loss\": [float(x) for x in hist[\"train_loss\"]],\n",
    "                \"eval_loss\": [float(x) for x in hist[\"eval_loss\"]],\n",
    "                \"eval_accuracy\": [float(x) for x in hist[\"eval_accuracy\"]]\n",
    "            }\n",
    "        }\n",
    "        for hist in all_histories\n",
    "    }\n",
    "}\n",
    "\n",
    "with open(\"t5_peft_results.json\", \"w\") as f:\n",
    "    json.dump(results, f, indent=2)\n",
    "\n",
    "print(\" Results saved to 't5_peft_results.json'\")\n",
    "\n"
   ]
  },
  {
   "cell_type": "code",
   "execution_count": 18,
   "metadata": {
    "colab": {
     "base_uri": "https://localhost:8080/"
    },
    "id": "2mq1mh5PvVWs",
    "outputId": "afaf2066-fafa-42c5-a6f5-d353477384cf"
   },
   "outputs": [
    {
     "name": "stdout",
     "output_type": "stream",
     "text": [
      "\n",
      "================================================================================\n",
      "FINAL RECOMMENDATIONS\n",
      "================================================================================\n",
      "\n",
      " Best Overall Accuracy: Full Fine-tuning\n",
      "   Accuracy: 90.50%\n",
      "   Trainable Parameters: 100.00%\n",
      "\n",
      " Most Parameter Efficient: LoRA\n",
      "   Accuracy: 87.30%\n",
      "   Trainable Parameters: 0.97%\n",
      "\n",
      " Key Insights:\n",
      "    LoRA provides best parameter efficiency with minimal accuracy loss\n",
      "    Soft prompts are most parameter-efficient but may sacrifice some accuracy\n",
      "    Full fine-tuning gives highest accuracy but requires 100% parameter updates\n",
      "    Adapters offer a middle ground between efficiency and performance\n",
      "\n",
      "================================================================================\n",
      " All experiments completed successfully!\n",
      "================================================================================\n"
     ]
    }
   ],
   "source": [
    "#============================================================================\n",
    "# FINAL SUMMARY\n",
    "# ============================================================================\n",
    "\n",
    "print(\"\\n\" + \"=\"*80)\n",
    "print(\"FINAL RECOMMENDATIONS\")\n",
    "print(\"=\"*80)\n",
    "\n",
    "# Find best method\n",
    "best_method = max(all_histories, key=lambda h: max(h[\"eval_accuracy\"]))\n",
    "most_efficient = min(all_histories[1:], key=lambda h: h[\"trainable_pct\"])\n",
    "\n",
    "print(f\"\\n Best Overall Accuracy: {best_method['method']}\")\n",
    "print(f\"   Accuracy: {max(best_method['eval_accuracy'])*100:.2f}%\")\n",
    "print(f\"   Trainable Parameters: {best_method['trainable_pct']:.2f}%\")\n",
    "\n",
    "print(f\"\\n Most Parameter Efficient: {most_efficient['method']}\")\n",
    "print(f\"   Accuracy: {max(most_efficient['eval_accuracy'])*100:.2f}%\")\n",
    "print(f\"   Trainable Parameters: {most_efficient['trainable_pct']:.2f}%\")\n",
    "\n",
    "print(\"\\n Key Insights:\")\n",
    "print(\"    LoRA provides best parameter efficiency with minimal accuracy loss\")\n",
    "print(\"    Soft prompts are most parameter-efficient but may sacrifice some accuracy\")\n",
    "print(\"    Full fine-tuning gives highest accuracy but requires 100% parameter updates\")\n",
    "print(\"    Adapters offer a middle ground between efficiency and performance\")\n",
    "\n",
    "print(\"\\n\" + \"=\"*80)\n",
    "print(\" All experiments completed successfully!\")\n",
    "print(\"=\"*80)"
   ]
  }
 ],
 "metadata": {
  "accelerator": "GPU",
  "colab": {
   "gpuType": "T4",
   "provenance": []
  },
  "kernelspec": {
   "display_name": "Python 3",
   "name": "python3"
  },
  "language_info": {
   "name": "python"
  }
 },
 "nbformat": 4,
 "nbformat_minor": 0
}
